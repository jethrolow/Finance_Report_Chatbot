{
 "cells": [
  {
   "attachments": {},
   "cell_type": "markdown",
   "metadata": {},
   "source": [
    "# Prompt Engineering\n",
    "\n",
    "Prompt Engineering Techniques explored:\n",
    "\n",
    "1. System message experimentation\n",
    "1. Chain-of-Thought with zero-shot and few-shot prompting\n",
    "1. Condense message experimentation\n",
    "1. Combining all together (final prompt)\n",
    "1. Also: Temperature"
   ]
  },
  {
   "cell_type": "code",
   "execution_count": 93,
   "metadata": {},
   "outputs": [],
   "source": [
    "# Import libraries\n",
    "from langchain.llms import OpenAI\n",
    "from langchain.chat_models import ChatOpenAI\n",
    "from langchain.schema import(\n",
    "    AIMessage,\n",
    "    HumanMessage,\n",
    "    SystemMessage\n",
    ")\n",
    "from langchain.prompts import PromptTemplate\n",
    "from langchain.prompts.chat import (\n",
    "    ChatPromptTemplate,\n",
    "    SystemMessagePromptTemplate,\n",
    "    HumanMessagePromptTemplate\n",
    ")\n",
    "from langchain.chains import LLMChain\n",
    "from langchain.agents import AgentType, initialize_agent, load_tools\n",
    "from langchain import OpenAI, ConversationChain\n",
    "from langchain.memory import ConversationBufferWindowMemory, ConversationBufferMemory\n",
    "from langchain.utilities import SerpAPIWrapper\n",
    "from langchain.agents import Tool\n",
    "from langchain.document_loaders import PyPDFLoader, UnstructuredPDFLoader\n",
    "from langchain.chains.question_answering import load_qa_chain\n",
    "from langchain.chains import ConversationalRetrievalChain\n",
    "from langchain.chains import RetrievalQA\n",
    "from langchain.document_loaders import TextLoader\n",
    "from langchain.embeddings.openai import OpenAIEmbeddings\n",
    "from langchain.llms import OpenAI\n",
    "from langchain.text_splitter import CharacterTextSplitter, RecursiveCharacterTextSplitter\n",
    "from langchain.vectorstores import Chroma\n",
    "from langchain.vectorstores import FAISS\n",
    "from langchain.document_loaders import PyPDFLoader, UnstructuredPDFLoader\n",
    "\n",
    "from tree_of_thoughts.openaiModels import OpenAILanguageModel\n",
    "from tree_of_thoughts.treeofthoughts import MonteCarloTreeofThoughts\n",
    "\n",
    "import tabula\n",
    "\n",
    "import os\n",
    "\n",
    "from PyPDF2 import PdfReader\n",
    "import pandas as df"
   ]
  },
  {
   "cell_type": "code",
   "execution_count": 94,
   "metadata": {},
   "outputs": [],
   "source": [
    "# load in openai API key\n",
    "os.environ['OPENAI_API_KEY'] =\"\""
   ]
  },
  {
   "attachments": {},
   "cell_type": "markdown",
   "metadata": {},
   "source": [
    "## Document used and test cases\n",
    "\n",
    "For the purpose of experimentation, let's use the Tesla Annual Report for year 2022. This document contains both text and tabular information (at the end of document), hence it will be a good test document for our prompt engineering. The document is stored in the \"./data\" folder.\n",
    "\n",
    "We should also include some basic test cases beforehand. This will make it easy to check if the prompts are giving us the correct output. Some test cases are defined here for reference.\n",
    "\n",
    "* Numbers. To test tabular data. \n",
    "\n",
    "1. What are the total assets and liabilities for the year 2022 in the consolidated balance sheet? Answer: 82338 million and 36440 million.\n",
    "1. What is the Income before income taxes for the year  2020, 2021 and 2022? Answer: 1,154, 6,343 and 13,719 respectively.\n",
    "1. What is the Comprehensive income attributable to common stockholders for year 2022?\" Answer: 12141 million\n",
    "\n",
    "\n",
    "* General Questions (open-ended)\n",
    "1. What does Tesla do? And what types of businesses is Tesla involved in?\n",
    "1. How is the financial health of Tesla?\n",
    "1. What kind of technologies does Tesla invest in?"
   ]
  },
  {
   "cell_type": "code",
   "execution_count": 95,
   "metadata": {},
   "outputs": [],
   "source": [
    "# template code to be used for testing of prompts\n",
    "query_1 = \"What are the total assets and liabilities for the year 2022 in the consolidated balance sheet?\"\n",
    "query_2 = \"What is the Income before income taxes for the year  2020, 2021 and 2022?\"\n",
    "query_3 = \"What is the Comprehensive income attributable to common stockholders for year 2022?\"\n",
    "queries_num = [query_1,query_2,query_3]\n",
    "\n",
    "query_5 = \"What does Tesla do? And what types of businesses is Tesla involved in?\"\n",
    "query_6 = \"How is the financial health of Tesla?\"\n",
    "query_7 = \"What kind of technologies does Tesla invest in?\"\n",
    "queries_gen = [query_5, query_6, query_7]"
   ]
  },
  {
   "attachments": {},
   "cell_type": "markdown",
   "metadata": {},
   "source": [
    "## General Guidelines for prompt engineering\n",
    "\n",
    "see: https://www.promptingguide.ai/introduction/tips\n",
    "\n",
    "* Start Simple  \n",
    "Slowly add on more complexity\n",
    "\n",
    "* Focus on the instruction  \n",
    "using commands to instruct the model what you want to achieve, such as \"Write\", \"Classify\", \"Summarize\", \"Translate\", \"Order\", etc.  \n",
    "Another recommendation is to use some clear separator like \"###\" to separate the instruction and context.\n",
    "\n",
    "\n",
    "        ### Instruction ###  \n",
    "        Translate the text below to Spanish:\n",
    "        Text: \"hello!\"\n",
    "\n",
    "        \n",
    "* Specificity\n",
    "Be very specific about the instruction and task you want the model to perform. Thinking about how specific and detailed you should be. Including too many unnecessary details is not necessarily a good approach. The details should be relevant and contribute to the task at hand.\n",
    "\n",
    "* Avoid Impreciseness  \n",
    "It's often better to be specific and direct. The analogy here is very similar to effective communication -- the more direct, the more effective the message gets across.\n",
    "\n",
    "* To do or not to do  \n",
    "Avoid saying what not to do but say what to do instead. This encourages more specificity and focuses on the details that lead to good responses from the model.\n",
    "\n"
   ]
  },
  {
   "attachments": {},
   "cell_type": "markdown",
   "metadata": {},
   "source": [
    "## Instruction Prompt Experimentation\n",
    "\n",
    "Here, we shall experiment with the different kinds of system prompts. To follow the guidelines above. The instruction prompt also forms the system prompt in the ChatPromptTemplate format.\n",
    "\n"
   ]
  },
  {
   "cell_type": "code",
   "execution_count": 96,
   "metadata": {},
   "outputs": [],
   "source": [
    "# try baseline case with default prompt template from RetrievalQA\n",
    "FILE_PATH = \"../data/Tesla_Annual_Report_2022.pdf\"\n",
    "loader = PyPDFLoader(FILE_PATH)\n",
    "data = loader.load()\n",
    "embeddings = OpenAIEmbeddings()\n",
    "vector_store = FAISS.from_documents(data, embeddings)\n",
    "qa = RetrievalQA.from_chain_type(llm=ChatOpenAI(temperature = 0.1), chain_type=\"stuff\", retriever=vector_store.as_retriever())"
   ]
  },
  {
   "cell_type": "code",
   "execution_count": 150,
   "metadata": {},
   "outputs": [
    {
     "data": {
      "text/plain": [
       "PromptTemplate(input_variables=['context'], output_parser=None, partial_variables={}, template=\"Use the following pieces of context to answer the users question. \\nIf you don't know the answer, just say that you don't know, don't try to make up an answer.\\n----------------\\n{context}\", template_format='f-string', validate_template=True)"
      ]
     },
     "execution_count": 150,
     "metadata": {},
     "output_type": "execute_result"
    }
   ],
   "source": [
    "# Inspect what the default prompt message is.\n",
    "qa.combine_documents_chain.llm_chain.prompt.messages[0].prompt"
   ]
  },
  {
   "cell_type": "code",
   "execution_count": 98,
   "metadata": {},
   "outputs": [
    {
     "data": {
      "text/plain": [
       "{'query': 'What kind of technologies does Tesla invest in?',\n",
       " 'result': 'Tesla invests in a variety of technologies related to automotive, battery and powertrain, vehicle control and infotainment software, self-driving development and artificial intelligence, energy generation and storage, design and engineering, and financial services. Some specific areas of investment include powertrain engineering, electric powertrain systems, battery cell chemistry, vehicle control software, self-driving technologies, energy storage systems, solar energy systems, intellectual property protection, sustainable operations, and in-app upgrades for vehicles.'}"
      ]
     },
     "execution_count": 98,
     "metadata": {},
     "output_type": "execute_result"
    }
   ],
   "source": [
    "# output using the default prompt message\n",
    "question = query_7\n",
    "qa({\"query\": question})"
   ]
  },
  {
   "cell_type": "code",
   "execution_count": 99,
   "metadata": {},
   "outputs": [],
   "source": [
    "system_template = \"\"\"### Instruction ###\n",
    "Use the following pieces of context to answer the users question.\n",
    "### Guidelines ###\n",
    "If you don't know the answer, just say that you don't know, don't try to make up an answer.\n",
    "Your role is as a financial analyst\n",
    "No matter what the question is, you should always answer it in the context provided below.\n",
    "If you are unsure of the answer, just say \"I do not know\"\n",
    "### context ###\n",
    "{context}\"\"\""
   ]
  },
  {
   "cell_type": "code",
   "execution_count": 100,
   "metadata": {},
   "outputs": [
    {
     "name": "stdout",
     "output_type": "stream",
     "text": [
      "### Instruction ###\n",
      "Use the following pieces of context to answer the users question.\n",
      "### Guidelines ###\n",
      "If you don't know the answer, just say that you don't know, don't try to make up an answer.\n",
      "Your role is as a financial analyst\n",
      "No matter what the question is, you should always answer it in the context provided below.\n",
      "If you are unsure of the answer, just say \"I do not know\"\n",
      "### context ###\n",
      "{context}\n"
     ]
    }
   ],
   "source": [
    "print(system_template)"
   ]
  },
  {
   "cell_type": "code",
   "execution_count": 101,
   "metadata": {},
   "outputs": [],
   "source": [
    "system_message_prompt = SystemMessagePromptTemplate.from_template(system_template)\n",
    "human_template = \"{question}\"\n",
    "human_message_prompt = HumanMessagePromptTemplate.from_template(human_template)\n",
    "\n",
    "chat_prompt = ChatPromptTemplate.from_messages([system_message_prompt, human_message_prompt])\n",
    "chain_type_kwargs = {\"prompt\": chat_prompt}\n",
    "qa = RetrievalQA.from_chain_type(llm=ChatOpenAI(temperature = 0.1), chain_type=\"stuff\", retriever=vector_store.as_retriever(), chain_type_kwargs= chain_type_kwargs)"
   ]
  },
  {
   "cell_type": "code",
   "execution_count": 102,
   "metadata": {},
   "outputs": [
    {
     "data": {
      "text/plain": [
       "{'query': 'What kind of technologies does Tesla invest in?',\n",
       " 'result': \"Tesla invests in a variety of technologies related to electric vehicles, energy generation, and storage. Some of the key technology areas that Tesla focuses on include:\\n\\n1. Powertrain Engineering: Tesla invests in the development and manufacturing of powertrain systems for electric vehicles. They design and optimize powertrain systems to be adaptable, efficient, reliable, and cost-effective.\\n\\n2. Battery Technology: Tesla has extensive testing and research capabilities for battery cells, packs, and systems. They have developed their own proprietary lithium-ion battery cell and improved manufacturing processes to increase energy density and reduce costs.\\n\\n3. Vehicle Control and Infotainment Software: Tesla develops and updates control software for vehicle performance, safety systems, charging management, and infotainment functions. They regularly release over-the-air software updates to enhance these features.\\n\\n4. Self-Driving Development and Artificial Intelligence: Tesla is actively developing technologies, systems, and software for self-driving vehicles using vision-based technologies. They utilize neural networks and are continuously improving their self-driving capabilities through field data and over-the-air updates.\\n\\n5. Energy Storage Products: Tesla leverages its vehicle technologies for energy storage products. They design and manufacture modular battery systems that can interconnect with electricity grids and provide fast-acting power injection and absorption.\\n\\n6. Solar Energy Systems: Tesla engineers solar energy systems, including Solar Roof and solar inverters, which integrate with their energy storage products. They aim to combine aesthetic appeal, durability, and power generation in their solar energy products.\\n\\nOverall, Tesla invests in technologies that support their mission to accelerate the world's transition to sustainable energy, with a focus on electric vehicles, energy storage, and renewable energy generation.\"}"
      ]
     },
     "execution_count": 102,
     "metadata": {},
     "output_type": "execute_result"
    }
   ],
   "source": [
    "# output using the revised_1 prompt message\n",
    "question = query_7\n",
    "qa({\"query\": question})"
   ]
  },
  {
   "attachments": {},
   "cell_type": "markdown",
   "metadata": {},
   "source": [
    "**Observations:**\n",
    "* As can be seen, the new prompt gives a more detailed answer than the old prompt.\n",
    "* After checking, it can be seen that both prompts are factually accurate.\n",
    "* The new prompts, with more instructions and greater precision and clearly defined ## instruction ##, ## guidelines ## and ## context ## does help to give more detailed prompts from the example shown.\n"
   ]
  },
  {
   "attachments": {},
   "cell_type": "markdown",
   "metadata": {},
   "source": [
    "## Chain-of-thought with zero-shot prompting and few-shot prompting\n",
    "\n",
    "What is chain-of-thought prompting: Introduced in Wei et al., chain-of-thought (CoT) prompting enables complex reasoning capabilities through intermediate reasoning steps. You can combine it with few-shot prompting to get better results on more complex tasks that require reasoning before responding.\n",
    "\n",
    "Link: https://arxiv.org/abs/2201.11903"
   ]
  },
  {
   "cell_type": "code",
   "execution_count": 103,
   "metadata": {},
   "outputs": [],
   "source": [
    "# try baseline case with default prompt template from RetrievalQA\n",
    "def get_text_from_pdf(fs_pdf_docs: list):\n",
    "    text_output = \"\"\n",
    "    for pdf_file in fs_pdf_docs:\n",
    "        pdf_reader = PdfReader(pdf_file)\n",
    "        for page in pdf_reader.pages:\n",
    "            text_output = text_output + page.extract_text()\n",
    "    return text_output\n",
    "\n",
    "def get_chunk_from_text(whole_text: str):\n",
    "    text_split = RecursiveCharacterTextSplitter(\n",
    "        separators = [\"\\n\\n\", \"\\n\", \" \", \"\"],\n",
    "        chunk_size = 1000,\n",
    "        chunk_overlap = 200,\n",
    "        length_function = len\n",
    "    )\n",
    "    chunks = text_split.split_text(whole_text)\n",
    "    return chunks\n",
    "\n",
    "def get_vectorstore_from_chucks(chunks):\n",
    "    embeddings = OpenAIEmbeddings()\n",
    "    vectorstore = FAISS.from_texts(texts = chunks, embedding = embeddings)\n",
    "    return vectorstore\n",
    "\n",
    "text = get_text_from_pdf([FILE_PATH])\n",
    "chunks = get_chunk_from_text(text)\n",
    "vector_store = get_vectorstore_from_chucks(chunks)\n",
    "\n",
    "qa = RetrievalQA.from_chain_type(llm=ChatOpenAI(temperature = 0.1), chain_type=\"stuff\", retriever=vector_store.as_retriever())"
   ]
  },
  {
   "cell_type": "code",
   "execution_count": 108,
   "metadata": {},
   "outputs": [
    {
     "name": "stdout",
     "output_type": "stream",
     "text": [
      "What are the total assets and liabilities for the year 2022 in the consolidated balance sheet?\n",
      "The total assets for the year 2022 in the consolidated balance sheet are $82,338 million. The total liabilities for the year 2022 in the consolidated balance sheet are $36,440 million.\n",
      "----------------------------------\n",
      "What is the Income before income taxes for the year  2020, 2021 and 2022?\n",
      "The income before income taxes for the years 2020, 2021, and 2022 are as follows:\n",
      "\n",
      "- 2020: $1,154 million\n",
      "- 2021: $6,343 million\n",
      "- 2022: $13,719 million\n",
      "----------------------------------\n",
      "What is the Comprehensive income attributable to common stockholders for year 2022?\n",
      "The Comprehensive income attributable to common stockholders for the year 2022 is $12,141 million.\n",
      "----------------------------------\n"
     ]
    }
   ],
   "source": [
    "# output using the default prompt message\n",
    "for query in queries_num:\n",
    "    print(query)\n",
    "    print(qa({\"query\": query})['result'])\n",
    "    print(\"----------------------------------\")\n"
   ]
  },
  {
   "cell_type": "code",
   "execution_count": 106,
   "metadata": {},
   "outputs": [
    {
     "name": "stdout",
     "output_type": "stream",
     "text": [
      "What does Tesla do? And what types of businesses is Tesla involved in?\n",
      "Tesla is involved in several businesses. They primarily manufacture and sell electric vehicles (EVs) for both individual customers and businesses with commuting employees. They also offer charging options for their customers, including home charging solutions and partnerships with hospitality, retail, and public destinations. Additionally, Tesla markets and sells solar and energy storage products to residential, commercial, and industrial customers, as well as utilities. They provide service for their electric vehicles through company-owned service locations and Tesla Mobile Service. Tesla also engages in direct sales through their website and company-owned stores, with galleries in some locations for product education. They also have a used vehicle business that supports new vehicle sales through trade-ins.\n",
      "----------------------------------\n",
      "How is the financial health of Tesla?\n",
      "Based on the provided context, it is difficult to determine the current financial health of Tesla. The information provided includes references to revenue figures from 2017 and mentions of challenges and uncertainties that could impact the company's financial viability. To assess the current financial health of Tesla, it would be necessary to review more recent financial statements and reports.\n",
      "----------------------------------\n",
      "What kind of technologies does Tesla invest in?\n",
      "Tesla invests in a variety of technologies, including autonomous driving, artificial intelligence, energy generation and storage, and robotics. They apply their AI learnings from self-driving technology to robotics, as seen with their robotic humanoid, Optimus. In terms of energy generation and storage, Tesla develops battery systems and software for energy storage products like Powerwall and Megapack. They also work on solar energy systems and offer charging options for electric vehicles.\n",
      "----------------------------------\n"
     ]
    }
   ],
   "source": [
    "# output using the default prompt message\n",
    "for query in queries_gen:\n",
    "    print(query)\n",
    "    print(qa({\"query\": query})['result'])\n",
    "    print(\"----------------------------------\")"
   ]
  },
  {
   "cell_type": "code",
   "execution_count": 109,
   "metadata": {},
   "outputs": [],
   "source": [
    "# Try with COT with zero-shot prompting by adding \"let;s think this step by step\"\n",
    "system_template = \"Use the following pieces of context to answer the users question. \\nIf you don't know the answer, just say that you don't know, don't try to make up an answer. Let's think step by step.\\n----------------\\n{context}\""
   ]
  },
  {
   "cell_type": "code",
   "execution_count": 110,
   "metadata": {},
   "outputs": [],
   "source": [
    "system_message_prompt = SystemMessagePromptTemplate.from_template(system_template)\n",
    "human_template = \"{question}\"\n",
    "human_message_prompt = HumanMessagePromptTemplate.from_template(human_template)\n",
    "\n",
    "chat_prompt = ChatPromptTemplate.from_messages([system_message_prompt, human_message_prompt])\n",
    "chain_type_kwargs = {\"prompt\": chat_prompt}\n",
    "qa = RetrievalQA.from_chain_type(llm=ChatOpenAI(temperature = 0.1), chain_type=\"stuff\", retriever=vector_store.as_retriever(), chain_type_kwargs= chain_type_kwargs)"
   ]
  },
  {
   "cell_type": "code",
   "execution_count": 111,
   "metadata": {},
   "outputs": [
    {
     "name": "stdout",
     "output_type": "stream",
     "text": [
      "What are the total assets and liabilities for the year 2022 in the consolidated balance sheet?\n",
      "The total assets for the year 2022 in the consolidated balance sheet are $82,338 million. The total liabilities for the year 2022 in the consolidated balance sheet are $36,440 million.\n",
      "----------------------------------\n",
      "What is the Income before income taxes for the year  2020, 2021 and 2022?\n",
      "The income before income taxes for the years 2020, 2021, and 2022 are as follows:\n",
      "\n",
      "- 2020: $1,154 million\n",
      "- 2021: $6,343 million\n",
      "- 2022: $13,719 million\n",
      "----------------------------------\n",
      "What is the Comprehensive income attributable to common stockholders for year 2022?\n",
      "The Comprehensive income attributable to common stockholders for the year 2022 is $12,141 million.\n",
      "----------------------------------\n"
     ]
    }
   ],
   "source": [
    "# output using CoT with  zero-prompt message\n",
    "for query in queries_num:\n",
    "    print(query)\n",
    "    print(qa({\"query\": query})['result'])\n",
    "    print(\"----------------------------------\")"
   ]
  },
  {
   "cell_type": "code",
   "execution_count": 112,
   "metadata": {},
   "outputs": [
    {
     "name": "stdout",
     "output_type": "stream",
     "text": [
      "What does Tesla do? And what types of businesses is Tesla involved in?\n",
      "Tesla is involved in several businesses. Firstly, they design, manufacture, and sell electric vehicles (EVs) for both individual customers and businesses with commuting employees. They also offer charging options for their customers, including home charging solutions and partnerships with hospitality, retail, and public destinations.\n",
      "\n",
      "In addition to EVs, Tesla is also engaged in the energy generation and storage sector. They market and sell solar and energy storage products to residential, commercial, and industrial customers, as well as utilities. Their aim is to make clean energy adoption easy and cost-effective while reducing customer acquisition costs.\n",
      "\n",
      "Tesla provides service and warranty for their electric vehicles through company-owned service locations and Tesla Mobile Service. They prioritize customer satisfaction and feedback.\n",
      "\n",
      "Furthermore, Tesla has a direct sales model, primarily selling vehicles through their website and company-owned stores globally. They also have galleries to educate customers about their products. Tesla periodically evaluates and optimizes their sales channels to adapt to market conditions.\n",
      "\n",
      "Lastly, Tesla is involved in the used vehicle business, allowing customers to trade in their existing Tesla or non-Tesla vehicles when purchasing a new Tesla vehicle. This supports new vehicle sales and customer loyalty.\n",
      "----------------------------------\n",
      "How is the financial health of Tesla?\n",
      "Based on the provided context, it is difficult to determine the current financial health of Tesla. The information provided includes references to revenue figures from 2017 and mentions of potential challenges and uncertainties that could impact Tesla's financial viability. To assess the current financial health of Tesla, it would be necessary to review more recent financial statements and performance data.\n",
      "----------------------------------\n",
      "What kind of technologies does Tesla invest in?\n",
      "Tesla invests in a variety of technologies, including:\n",
      "\n",
      "1. Autonomous Driving: Tesla is heavily invested in self-driving technology and is continuously developing and improving its Autopilot and Full Self-Driving (FSD) capabilities.\n",
      "\n",
      "2. Artificial Intelligence: Tesla applies its AI learnings from self-driving technology to other areas, such as robotics. They have developed a robotic humanoid called Optimus, which is controlled by the same AI system.\n",
      "\n",
      "3. Energy Generation and Storage: Tesla invests in energy storage products, such as Powerwall and Megapack, which are lithium-ion battery solutions for residential, commercial, and utility customers. They also work on software capabilities for remote control and dispatch of energy storage systems.\n",
      "\n",
      "4. Solar Energy Systems: Tesla offers solar energy systems for residential, commercial, and industrial customers. They collaborate with various businesses and destinations to provide additional charging options and home charging solutions.\n",
      "\n",
      "5. Battery Technology: Tesla focuses on developing and optimizing battery technology for its vehicles and energy storage products. They have built the Gigafactory Nevada, the largest lithium-ion battery factory in the world, to scale their battery production effectively.\n",
      "\n",
      "6. Electric Vehicles: Tesla invests in the development and production of electric vehicles. They have introduced various models, including the Tesla Semi (commercial electric vehicle), Cybertruck (specialized consumer electric vehicle), and the new Tesla Roadster.\n",
      "\n",
      "Overall, Tesla's investments span across autonomous driving, AI, energy generation and storage, solar energy systems, battery technology, and electric vehicles.\n",
      "----------------------------------\n"
     ]
    }
   ],
   "source": [
    "# output using the CoT with  zero-prompt message\n",
    "for query in queries_gen:\n",
    "    print(query)\n",
    "    print(qa({\"query\": query})['result'])\n",
    "    print(\"----------------------------------\")"
   ]
  },
  {
   "attachments": {},
   "cell_type": "markdown",
   "metadata": {},
   "source": [
    "**Observations:**\n",
    "* Both the base case and the CoT zero-shot prompt gave accurate and factual results for the quantitative results. Therefore, the zero-shot prompt did not degrade the LLM output.\n",
    "* The zero-shot CoT prompt gave much more detailed replies. It understands the context of the question better. The output is also more structured."
   ]
  },
  {
   "cell_type": "code",
   "execution_count": 113,
   "metadata": {},
   "outputs": [
    {
     "name": "stdout",
     "output_type": "stream",
     "text": [
      "Use the following pieces of context to answer the users question.\n",
      "If you don't know the answer, just say that you don't know, don't try to make up an answer. \n",
      "Let's think step by step.\n",
      "## examples ##\n",
      "Q: What is the net income from financial year 2021 and 2022 combined?\n",
      "A: The net income for financial year 2021 is 300 million. The net income for financial year 2022 is 200 million. Therefore, the combined net income is 500 million.\n",
      "Q: What is the gross profit?\n",
      "A: Gross profit is defined as the total sales minus the cost of goods sold. Hence, I must find the total sales figure and the cost of goods sold figure. Then, I take the total sales figure minus the costs of goods sold figure.\n",
      "### context ###\n",
      "{context}\n"
     ]
    }
   ],
   "source": [
    "# Let's introduce CoT with few-shot prompting\n",
    "system_template = \"\"\"Use the following pieces of context to answer the users question.\n",
    "If you don't know the answer, just say that you don't know, don't try to make up an answer. \n",
    "Let's think step by step.\n",
    "## examples ##\n",
    "Q: What is the net income from financial year 2021 and 2022 combined?\n",
    "A: The net income for financial year 2021 is 300 million. The net income for financial year 2022 is 200 million. Therefore, the combined net income is 300 million plus 200 million which is 500 million.\n",
    "Q: What is the gross profit?\n",
    "A: Gross profit is defined as the total sales minus the cost of goods sold. Hence, I must find the total sales figure and the cost of goods sold figure. Then, I take the total sales figure minus the costs of goods sold figure.\n",
    "### context ###\n",
    "{context}\"\"\"\n",
    "\n",
    "print(system_template)\n",
    "\n",
    "system_message_prompt = SystemMessagePromptTemplate.from_template(system_template)\n",
    "human_template = \"{question}\"\n",
    "human_message_prompt = HumanMessagePromptTemplate.from_template(human_template)\n",
    "\n",
    "chat_prompt = ChatPromptTemplate.from_messages([system_message_prompt, human_message_prompt])\n",
    "chain_type_kwargs = {\"prompt\": chat_prompt}\n",
    "qa = RetrievalQA.from_chain_type(llm=ChatOpenAI(temperature = 0.0), chain_type=\"stuff\", retriever=vector_store.as_retriever(), chain_type_kwargs= chain_type_kwargs)"
   ]
  },
  {
   "cell_type": "code",
   "execution_count": 114,
   "metadata": {},
   "outputs": [
    {
     "name": "stdout",
     "output_type": "stream",
     "text": [
      "What are the total assets and liabilities for the year 2022 in the consolidated balance sheet?\n",
      "The total assets for the year 2022 in the consolidated balance sheet are $82,338 million. The total liabilities for the year 2022 in the consolidated balance sheet are $36,440 million.\n",
      "----------------------------------\n",
      "What is the Income before income taxes for the year  2020, 2021 and 2022?\n",
      "The income before income taxes for the year 2020 is $1,154 million. The income before income taxes for the year 2021 is $6,343 million. The income before income taxes for the year 2022 is $13,719 million.\n",
      "----------------------------------\n",
      "What is the Comprehensive income attributable to common stockholders for year 2022?\n",
      "The comprehensive income attributable to common stockholders for the year 2022 is $12,141 million.\n",
      "----------------------------------\n"
     ]
    }
   ],
   "source": [
    "# output using the default prompt message\n",
    "for query in queries_num:\n",
    "    print(query)\n",
    "    print(qa({\"query\": query})['result'])\n",
    "    print(\"----------------------------------\")"
   ]
  },
  {
   "cell_type": "code",
   "execution_count": 115,
   "metadata": {},
   "outputs": [
    {
     "name": "stdout",
     "output_type": "stream",
     "text": [
      "What does Tesla do? And what types of businesses is Tesla involved in?\n",
      "Tesla is a company that primarily focuses on the design, development, manufacturing, and sale of electric vehicles (EVs) and sustainable energy products. They are known for their innovative electric cars, such as the Model S, Model 3, Model X, and Model Y. However, Tesla is involved in various other businesses as well. \n",
      "\n",
      "Here are the types of businesses Tesla is involved in:\n",
      "\n",
      "1. Electric Vehicles: Tesla is primarily known for its electric vehicles. They design, manufacture, and sell electric cars that are powered by rechargeable batteries, offering a sustainable and environmentally friendly alternative to traditional gasoline-powered vehicles.\n",
      "\n",
      "2. Energy Generation and Storage: Tesla also markets and sells solar energy products and energy storage solutions. They offer solar panels and solar roofs for residential, commercial, and industrial customers, allowing them to generate clean energy. Additionally, Tesla provides energy storage products like Powerwall and Powerpack, which store excess energy for later use.\n",
      "\n",
      "3. Charging Infrastructure: Tesla has developed a network of Supercharger stations worldwide to support the charging needs of their electric vehicles. They work with various businesses, including hospitality, retail, and public destinations, to provide additional charging options for their customers. Tesla also offers home charging solutions for single-family homeowners and multi-family residential entities.\n",
      "\n",
      "4. In-App Upgrades: Tesla vehicles can be updated remotely over-the-air, allowing customers to purchase additional paid options and features through the Tesla app or in-vehicle user interface. This functionality may also enable Tesla to offer certain options and features on a subscription basis in the future.\n",
      "\n",
      "5. Service and Warranty: Tesla provides service and warranty support for their electric vehicles. They have company-owned service locations and offer Tesla Mobile Service, where technicians come to the customer's location for repairs and maintenance.\n",
      "\n",
      "6. Direct Sales: Tesla sells their vehicles through various channels, including their website and an international network of company-owned stores. They also have galleries to educate and inform customers about their products. Tesla periodically evaluates its sales strategy to optimize its sales channels.\n",
      "\n",
      "7. Used Vehicle Sales: Tesla has a used vehicle business that supports new vehicle sales. They integrate the trade-in of a customer's existing Tesla or non-Tesla vehicle, providing a convenient option for customers looking to upgrade or switch to an electric vehicle.\n",
      "\n",
      "It's important to note that Tesla's business activities may evolve and expand over time as they continue to innovate and enter new markets.\n",
      "----------------------------------\n",
      "How is the financial health of Tesla?\n",
      "Based on the provided context, it is difficult to determine the current financial health of Tesla. The context mentions factors that may impact Tesla's financial viability and business prospects, such as limited operating history, customer unfamiliarity with their products, competition, and production and sales performance. To assess Tesla's financial health, it would be necessary to review their recent financial statements, including revenue, net income, and other financial indicators.\n",
      "----------------------------------\n",
      "What kind of technologies does Tesla invest in?\n",
      "Tesla invests in various technologies, including:\n",
      "\n",
      "1. Autonomous Driving: Tesla is heavily invested in developing self-driving technology. They have been working on their Full Self-Driving (FSD) system, which utilizes artificial intelligence and machine learning to enable vehicles to navigate and operate autonomously.\n",
      "\n",
      "2. Robotics: Tesla applies its AI learnings from self-driving technology to the field of robotics. They have showcased a robotic humanoid called Optimus, which is controlled by the same AI system used in their autonomous vehicles.\n",
      "\n",
      "3. Energy Storage: Tesla leverages its expertise in battery technology to develop energy storage products. They design modular battery systems that can be used in their vehicles as well as for energy storage purposes. Their energy storage products, such as Powerwall and Megapack, provide solutions for residential, commercial, and utility customers.\n",
      "\n",
      "4. Solar Energy: Tesla acquired SolarCity Corporation in 2016 to expand into the solar energy market. They offer solar energy systems to residential, commercial, and industrial customers, allowing them to generate their own sustainable energy.\n",
      "\n",
      "Overall, Tesla invests in technologies related to electric vehicles, autonomous driving, energy storage, and renewable energy.\n",
      "----------------------------------\n"
     ]
    }
   ],
   "source": [
    "# output using the default prompt message\n",
    "for query in queries_gen:\n",
    "    print(query)\n",
    "    print(qa({\"query\": query})['result'])\n",
    "    print(\"----------------------------------\")"
   ]
  },
  {
   "cell_type": "code",
   "execution_count": 116,
   "metadata": {},
   "outputs": [
    {
     "data": {
      "text/plain": [
       "[SystemMessagePromptTemplate(prompt=PromptTemplate(input_variables=['context'], output_parser=None, partial_variables={}, template=\"Use the following pieces of context to answer the users question.\\nIf you don't know the answer, just say that you don't know, don't try to make up an answer. \\nLet's think step by step.\\n## examples ##\\nQ: What is the net income from financial year 2021 and 2022 combined?\\nA: The net income for financial year 2021 is 300 million. The net income for financial year 2022 is 200 million. Therefore, the combined net income is 500 million.\\nQ: What is the gross profit?\\nA: Gross profit is defined as the total sales minus the cost of goods sold. Hence, I must find the total sales figure and the cost of goods sold figure. Then, I take the total sales figure minus the costs of goods sold figure.\\n### context ###\\n{context}\", template_format='f-string', validate_template=True), additional_kwargs={}),\n",
       " HumanMessagePromptTemplate(prompt=PromptTemplate(input_variables=['question'], output_parser=None, partial_variables={}, template='{question}', template_format='f-string', validate_template=True), additional_kwargs={})]"
      ]
     },
     "execution_count": 116,
     "metadata": {},
     "output_type": "execute_result"
    }
   ],
   "source": [
    "qa.combine_documents_chain.llm_chain.prompt.messages"
   ]
  },
  {
   "attachments": {},
   "cell_type": "markdown",
   "metadata": {},
   "source": [
    "**Observations:**\n",
    "* The quantitative outputs are again, correct. The CoT with few-shot prompts did not degrade the LLM output.\n",
    "* The general questions have largely the same output as the CoT with zero-shot prompting.\n",
    "* Since CoT with few-shot prompts uses up much more tokens as compared to zero-shot prompting, we shall use zero-shot prompts instead.\n",
    "* One thing I noticed was also that the category of questions is too broad. Hence, the prompts are not sufficient to cover most questions."
   ]
  },
  {
   "attachments": {},
   "cell_type": "markdown",
   "metadata": {},
   "source": [
    "## Condense QA Prompt\n",
    "The ConversationalRetrievalChain is a component of the Langchain system that combines chat history, question condensing, semantic search, and question answering to provide a response. On the backend, the ConversationalRetrievalChain performs the following steps:\n",
    "\n",
    "1. It condenses the current question and the chat history into a standalone question. This is done to create a standalone vector for retrieval.\n",
    "1. It uses a retriever, which can be created from a vector store, to look up relevant documents based on the condensed question.\n",
    "1. It passes the retrieved documents and the original question to a question answering chain to generate a response.\n",
    "1. It returns the answer to the user.\n",
    "\n",
    "We can update the condense_QA_prompt that performs step 1 to summarize the current question and the chat history."
   ]
  },
  {
   "cell_type": "code",
   "execution_count": 126,
   "metadata": {},
   "outputs": [],
   "source": [
    "llm = ChatOpenAI(model_name=\"gpt-3.5-turbo\", temperature=0.2)\n",
    "\n",
    "chain = ConversationalRetrievalChain.from_llm(\n",
    "    llm=llm,\n",
    "    retriever=vector_store.as_retriever(),\n",
    "    chain_type=\"stuff\",\n",
    "    return_source_documents=True,\n",
    "    output_key=\"answer\",\n",
    "    return_generated_question = True\n",
    ")"
   ]
  },
  {
   "cell_type": "code",
   "execution_count": 127,
   "metadata": {},
   "outputs": [
    {
     "data": {
      "text/plain": [
       "PromptTemplate(input_variables=['chat_history', 'question'], output_parser=None, partial_variables={}, template='Given the following conversation and a follow up question, rephrase the follow up question to be a standalone question, in its original language.\\n\\nChat History:\\n{chat_history}\\nFollow Up Input: {question}\\nStandalone question:', template_format='f-string', validate_template=True)"
      ]
     },
     "execution_count": 127,
     "metadata": {},
     "output_type": "execute_result"
    }
   ],
   "source": [
    "# Inspect the default QA prompt\n",
    "chain.question_generator.prompt"
   ]
  },
  {
   "cell_type": "code",
   "execution_count": 128,
   "metadata": {},
   "outputs": [
    {
     "name": "stdout",
     "output_type": "stream",
     "text": [
      "What kind of technologies does Tesla invest in?\n",
      "Tesla invests in a variety of technologies, including autonomous driving, artificial intelligence, robotics, energy generation, energy storage, and software development. They apply their AI learnings from self-driving technology to robotics, as seen with their robotic humanoid, Optimus. They also leverage component-level technologies from their vehicles in their energy storage products and develop software for remote control and dispatch of energy storage systems. Additionally, Tesla focuses on developing proprietary technologies for Full Self-Driving (FSD), battery cells, and other advancements in the electric vehicle industry.\n",
      "-------------------------------------------------\n",
      "Out of all the technologies, which one is the most interesting and has the most potential?\n",
      "Based on the provided context, it is difficult to determine which specific technology Tesla invests in has the most potential. However, some notable technologies mentioned include autonomous driving (FSD Beta), energy generation and storage (including the Gigafactory and energy storage products like Powerwall and Megapack), and solar energy systems. Each of these technologies has its own unique potential and impact in their respective fields.\n",
      "-------------------------------------------------\n",
      "Tell me more about the autonomous driving technology.\n",
      "Tesla has expertise in developing autonomous driving technology using primarily vision-based technologies. They have a system called Autopilot and Full Self-Driving (FSD) options, which provide advanced driver assist systems in their vehicles. While the driver is currently responsible for controlling the vehicle, these systems offer safety and convenience features that relieve drivers of tedious and potentially dangerous aspects of road travel. Tesla continuously improves these functions through over-the-air updates.\n",
      "\n",
      "In the future, Tesla plans to establish an autonomous ride-hailing network, expanding their customer base as transportation evolves. They also apply their artificial intelligence learnings from self-driving technology to robotics, as seen with their robotic humanoid called Optimus.\n",
      "\n",
      "Overall, Tesla's autonomous driving technology aims to enhance safety and convenience on the road while continually improving through data capture and neural network training.\n"
     ]
    }
   ],
   "source": [
    "# Let's use the base prompt to see how the output standalone question looks like\n",
    "chat_history = []\n",
    "question = query_7\n",
    "print(question)\n",
    "result = chain({\"question\": question, \"chat_history\": chat_history})\n",
    "print(result['answer'])\n",
    "chat_history.append((question, result[\"answer\"]))\n",
    "print(\"-------------------------------------------------\")\n",
    "\n",
    "sub_question_1 = \"Out of all the technologies, which one is the most interesting and has the most potential?\"\n",
    "print(sub_question_1)\n",
    "result = chain({\"question\": sub_question_1, \"chat_history\": chat_history})\n",
    "print(result['answer'])\n",
    "chat_history.append((question, result[\"answer\"]))\n",
    "print(\"-------------------------------------------------\")\n",
    "\n",
    "sub_question_2 = \"Tell me more about the autonomous driving technology.\"\n",
    "print(sub_question_2)\n",
    "result = chain({\"question\": sub_question_2, \"chat_history\": chat_history})\n",
    "print(result['answer'])\n",
    "chat_history.append((question, result[\"answer\"]))\n"
   ]
  },
  {
   "cell_type": "code",
   "execution_count": 129,
   "metadata": {},
   "outputs": [
    {
     "data": {
      "text/plain": [
       "'What can you tell me about the autonomous driving technology developed by Tesla?'"
      ]
     },
     "execution_count": 129,
     "metadata": {},
     "output_type": "execute_result"
    }
   ],
   "source": [
    "# the output after condensing history and new question\n",
    "result['generated_question']"
   ]
  },
  {
   "cell_type": "code",
   "execution_count": 130,
   "metadata": {},
   "outputs": [],
   "source": [
    "memory_template = \"\"\"\n",
    "Given the following chat history and a follow up question, rephrase the\\\n",
    "follow up question to be a standalone question.\\\n",
    "The follow up question may not always be based on the chat history.\\\n",
    "If follow up question is not based on the chat history, do not rephrase it.\\\n",
    "If follow up question is not based on the chat history, you should still answer it\\\n",
    "in the context given below.\\\n",
    "If the question is not related to the context below, just say that \"I don't know\".\\\n",
    "Chat History:{chat_history}\\\n",
    "Follow Up Question: {question}\\\n",
    "Standalone Question:\n",
    "\"\"\"\n",
    "\n",
    "CONDENSE_QUESTION_PROMPT = PromptTemplate.from_template(memory_template)"
   ]
  },
  {
   "cell_type": "code",
   "execution_count": 131,
   "metadata": {},
   "outputs": [],
   "source": [
    "llm = ChatOpenAI(model_name=\"gpt-3.5-turbo\", temperature=0.2)\n",
    "\n",
    "chain = ConversationalRetrievalChain.from_llm(\n",
    "    llm=llm,\n",
    "    retriever=vector_store.as_retriever(),\n",
    "    chain_type=\"stuff\",\n",
    "    return_source_documents=True,\n",
    "    output_key=\"answer\",\n",
    "    return_generated_question = True\n",
    ")"
   ]
  },
  {
   "cell_type": "code",
   "execution_count": 132,
   "metadata": {},
   "outputs": [
    {
     "name": "stdout",
     "output_type": "stream",
     "text": [
      "What kind of technologies does Tesla invest in?\n",
      "Tesla invests in a variety of technologies, including autonomous driving technology, artificial intelligence, robotics, energy generation, energy storage, and software development. They leverage their expertise in power electronics and battery systems from their vehicles to optimize their energy storage products. They also work on developing solar energy systems and offer charging solutions for residential, commercial, and industrial customers. Additionally, Tesla focuses on developing software capabilities for remote control and dispatch of their energy storage systems.\n",
      "-------------------------------------------------\n",
      "Out of all the technologies, which one is the most interesting and has the most potential?\n",
      "Based on the provided context, it is difficult to determine which technology Tesla invests in has the most potential or is the most interesting. However, some notable technologies mentioned include electric vehicles, autonomous driving technology, energy generation and storage (including solar energy systems and battery storage products), and robotics. Each of these technologies has its own unique potential and can contribute to Tesla's overall vision of sustainable energy and transportation.\n",
      "-------------------------------------------------\n",
      "Tell me more about the autonomous driving technology.\n",
      "Tesla's autonomous driving technology, known as Autopilot and Full Self-Driving (FSD) Capability, includes several advancements and features. These include:\n",
      "\n",
      "1. Vision-based Technologies: Tesla primarily relies on vision-based technologies for self-driving, using cameras to capture and analyze the surrounding environment.\n",
      "\n",
      "2. Neural Networks: Tesla's FSD Computer runs neural networks in their vehicles, which continuously train and improve the self-driving capabilities based on real-world data.\n",
      "\n",
      "3. Advanced Driver Assist Systems: Tesla's vehicles equipped with Autopilot and FSD options offer certain advanced driver assist systems. These systems provide safety and convenience functionality, relieving drivers of tedious and potentially dangerous aspects of road travel.\n",
      "\n",
      "4. Over-the-Air Updates: Tesla improves the autonomous driving functions in their vehicles over time through over-the-air updates. This allows for continuous enhancements and improvements to the self-driving technology.\n",
      "\n",
      "5. Autonomous Ride-Hailing Network: Tesla has plans to establish an autonomous ride-hailing network in the future. This network would allow Tesla to access a new customer base and provide autonomous transportation services.\n",
      "\n",
      "It's important to note that while Tesla's autonomous driving technology offers advanced features, the driver is still ultimately responsible for controlling the vehicle at present.\n"
     ]
    }
   ],
   "source": [
    "# Let's use the improved prompt to see how the output standalone question looks like\n",
    "chat_history = []\n",
    "question = query_7\n",
    "print(question)\n",
    "result = chain({\"question\": question, \"chat_history\": chat_history})\n",
    "print(result['answer'])\n",
    "chat_history.append((question, result[\"answer\"]))\n",
    "print(\"-------------------------------------------------\")\n",
    "\n",
    "sub_question_1 = \"Out of all the technologies, which one is the most interesting and has the most potential?\"\n",
    "print(sub_question_1)\n",
    "result = chain({\"question\": sub_question_1, \"chat_history\": chat_history})\n",
    "print(result['answer'])\n",
    "chat_history.append((question, result[\"answer\"]))\n",
    "print(\"-------------------------------------------------\")\n",
    "\n",
    "sub_question_2 = \"Tell me more about the autonomous driving technology.\"\n",
    "print(sub_question_2)\n",
    "result = chain({\"question\": sub_question_2, \"chat_history\": chat_history})\n",
    "print(result['answer'])\n",
    "chat_history.append((question, result[\"answer\"]))"
   ]
  },
  {
   "cell_type": "code",
   "execution_count": 133,
   "metadata": {},
   "outputs": [
    {
     "data": {
      "text/plain": [
       "\"What specific advancements or features does Tesla's autonomous driving technology include?\""
      ]
     },
     "execution_count": 133,
     "metadata": {},
     "output_type": "execute_result"
    }
   ],
   "source": [
    "# the output after condensing history and new question\n",
    "# for improved condensed qa prompt\n",
    "result['generated_question']"
   ]
  },
  {
   "attachments": {},
   "cell_type": "markdown",
   "metadata": {},
   "source": [
    "**Observations:**\n",
    "* Using a modified condense_qa_prompt, the final input question is much better, in the sense that it is more specific and related to the context.\n",
    "* The output from the new input question is also mush more elaborate, detailed and specific."
   ]
  },
  {
   "attachments": {},
   "cell_type": "markdown",
   "metadata": {},
   "source": [
    "## Combining all together (final prompt template used)\n",
    "Now that we have experimented with different methods of prompt engineering and observed the outputs, we can combine the knowledge to generate the eventual prompt used for the app deployment.\n",
    "\n",
    "**Main observations from prompt engineering:**\n",
    "1. Modifying the system prompt with instructions, guidelines and context gives answers with more details and nuances. The answers are factual and accurate.\n",
    "1. CoT with zero-shot prompting is able to produce answers which are relevant and contextual. It is also highly verbose and explains with rich details on how it arrived at the final answer.\n",
    "1. CoT with few-shot prompting gave similar answers to CoT with zero-shot prompting. This method also used more tokens, leaving less token space available for the context. Hence, it is better not to use CoT with few-shot prompting for our use case.\n",
    "1. Using a modified condense_qa_prompt generates better subsequent questions and therefore a more specific and elaborate final output answer."
   ]
  },
  {
   "cell_type": "code",
   "execution_count": 134,
   "metadata": {},
   "outputs": [],
   "source": [
    "# QA prompt\n",
    "system_template = \"\"\"### Instruction ###\n",
    "Use the following pieces of context to answer the users question.\n",
    "### Guidelines ###\n",
    "If you don't know the answer, just say that you don't know, don't try to make up an answer.\n",
    "Your role is as a financial analyst\n",
    "No matter what the question is, you should always answer it in the context provided below.\n",
    "If you are unsure of the answer, just say \"I do not know\"\n",
    "### context ###\n",
    "{context}\"\"\"\n",
    "\n",
    "system_message_prompt = SystemMessagePromptTemplate.from_template(system_template)\n",
    "human_template = \"{question}\"\n",
    "human_message_prompt = HumanMessagePromptTemplate.from_template(human_template)\n",
    "\n",
    "chat_prompt = ChatPromptTemplate.from_messages([system_message_prompt, human_message_prompt])\n",
    "\n",
    "chain_type_kwargs = {\"prompt\": chat_prompt}\n"
   ]
  },
  {
   "cell_type": "code",
   "execution_count": 135,
   "metadata": {},
   "outputs": [],
   "source": [
    "# Condensed QA prompt\n",
    "memory_template = \"\"\"\n",
    "Given the following chat history and a follow up question, rephrase the\\\n",
    "follow up question to be a standalone question.\\\n",
    "The follow up question may not always be based on the chat history.\\\n",
    "If follow up question is not based on the chat history, do not rephrase it.\\\n",
    "If follow up question is not based on the chat history, you should still answer it\\\n",
    "in the context given below.\\\n",
    "If the question is not related to the context below, just say that \"I don't know\".\\\n",
    "Chat History:{chat_history}\\\n",
    "Follow Up Question: {question}\\\n",
    "Standalone Question:\n",
    "\"\"\"\n",
    "\n",
    "CONDENSE_QUESTION_PROMPT = PromptTemplate.from_template(memory_template)"
   ]
  },
  {
   "cell_type": "code",
   "execution_count": 136,
   "metadata": {},
   "outputs": [],
   "source": [
    "# Final Chain\n",
    "llm = ChatOpenAI(model_name=\"gpt-3.5-turbo\", temperature=0.1)\n",
    "\n",
    "chain = ConversationalRetrievalChain.from_llm(\n",
    "    llm=llm,\n",
    "    retriever=vector_store.as_retriever(),\n",
    "    chain_type=\"stuff\",\n",
    "    return_source_documents=True,\n",
    "    output_key=\"answer\",\n",
    "    condense_question_prompt=CONDENSE_QUESTION_PROMPT,\n",
    "    combine_docs_chain_kwargs= chain_type_kwargs\n",
    ")\n"
   ]
  },
  {
   "attachments": {},
   "cell_type": "markdown",
   "metadata": {},
   "source": [
    "Now that we have created our final prompt template, let's run through all the 7 queries and see the output of them."
   ]
  },
  {
   "cell_type": "code",
   "execution_count": 137,
   "metadata": {},
   "outputs": [
    {
     "name": "stdout",
     "output_type": "stream",
     "text": [
      "What are the total assets and liabilities for the year 2022 in the consolidated balance sheet?\n",
      "The total assets for the year 2022 in the consolidated balance sheet are $82,338 million. The total liabilities for the year 2022 in the consolidated balance sheet are $36,440 million.\n",
      "---------------------------------------------\n",
      "What is the Income before income taxes for the year  2020, 2021 and 2022?\n",
      "The income before income taxes for the year 2020 was $1,154 million, for the year 2021 was $6,343 million, and for the year 2022 was $13,719 million.\n",
      "---------------------------------------------\n",
      "What is the Comprehensive income attributable to common stockholders for year 2022?\n",
      "The Comprehensive income attributable to common stockholders for the year 2022 is $12,141 million.\n",
      "---------------------------------------------\n"
     ]
    }
   ],
   "source": [
    "for query in queries_num:\n",
    "    chat_history = []\n",
    "    result = chain({\"question\": query, \"chat_history\": chat_history})\n",
    "    print(result['question'])\n",
    "    print(result['answer'])\n",
    "    print(\"---------------------------------------------\")"
   ]
  },
  {
   "cell_type": "code",
   "execution_count": 138,
   "metadata": {},
   "outputs": [
    {
     "name": "stdout",
     "output_type": "stream",
     "text": [
      "What does Tesla do? And what types of businesses is Tesla involved in?\n",
      "Tesla is a company that primarily focuses on the design, development, manufacturing, and sale of electric vehicles. They also provide energy generation and storage solutions through their solar and energy storage products. Additionally, Tesla offers services such as vehicle maintenance and repairs.\n",
      "\n",
      "In terms of the types of businesses Tesla is involved in, they work with a wide range of industries. They collaborate with hospitality, retail, and public destinations to provide charging options for electric vehicles. They also work with businesses that have commuting employees to offer charging solutions. Furthermore, Tesla markets and sells their solar and energy storage products to residential, commercial, and industrial customers, as well as utilities.\n",
      "---------------------------------------------\n",
      "How is the financial health of Tesla?\n",
      "As a financial analyst, I can provide some insights into Tesla's financial health based on the information provided. However, please note that the context does not explicitly mention the current financial status of Tesla. \n",
      "\n",
      "Tesla has experienced significant growth in recent years, with its annual revenue reaching approximately $11.8 billion in 2017. However, in order to achieve certain operational milestones, Tesla would need to increase its revenue by more than $163 billion. This indicates that Tesla has ambitious targets for growth.\n",
      "\n",
      "It is important to consider that Tesla faces challenges in maintaining long-term financial viability and business prospects. These challenges include limited operating history compared to established competitors, customer unfamiliarity with their products, potential delays in scaling manufacturing and delivery operations, competition in the electric vehicle market, and other factors beyond their control.\n",
      "\n",
      "Overall, without specific financial data for the current period, it is difficult to provide a definitive assessment of Tesla's financial health. It would be advisable to review their latest financial statements and reports for a more accurate understanding of their financial performance.\n",
      "---------------------------------------------\n",
      "What kind of technologies does Tesla invest in?\n",
      "Tesla invests in a variety of technologies, including autonomous driving, artificial intelligence, robotics, energy generation, energy storage, and software development. They leverage their expertise in these areas to develop electric vehicles, battery systems, solar energy systems, and energy management software. Additionally, Tesla is constantly innovating and investing in new technologies to improve their products and expand their offerings in the market.\n",
      "---------------------------------------------\n"
     ]
    }
   ],
   "source": [
    "for query in queries_gen:\n",
    "    chat_history = []\n",
    "    result = chain({\"question\": query, \"chat_history\": chat_history})\n",
    "    print(result['question'])\n",
    "    print(result['answer'])\n",
    "    print(\"---------------------------------------------\")"
   ]
  },
  {
   "attachments": {},
   "cell_type": "markdown",
   "metadata": {},
   "source": [
    "## Also: Temperature\n",
    "While not really a prompt engineering technique, changing the value of the temperature can give us more factual answers.\n",
    "\n",
    " The LLM temperature is a hyperparameter that regulates the randomness, or creativity, of the AI’s responses. A higher temperature value typically makes the output more diverse and creative but might also increase its likelihood of straying from the context. Conversely, a lower temperature value makes the AI’s responses more focused and deterministic, sticking closely to the most likely prediction.\n",
    "\n",
    " Setting the temperature to be lower will give more accurate response, since the sampling of the probabilities only pick those with highest probabilities."
   ]
  },
  {
   "cell_type": "code",
   "execution_count": 141,
   "metadata": {},
   "outputs": [
    {
     "name": "stdout",
     "output_type": "stream",
     "text": [
      "Temperature of LLM is set to: 0.1\n",
      "What are the total assets and liabilities for the year 2022 in the consolidated balance sheet?\n",
      "The total assets for the year 2022 in the consolidated balance sheet are $82,338 million. The total liabilities for the year 2022 in the consolidated balance sheet are $36,440 million.\n",
      "----------------------------------\n",
      "What is the Income before income taxes for the year  2020, 2021 and 2022?\n",
      "The income before income taxes for the years 2020, 2021, and 2022 are as follows:\n",
      "\n",
      "- 2020: $1,154 million\n",
      "- 2021: $6,343 million\n",
      "- 2022: $13,719 million\n",
      "----------------------------------\n",
      "What is the Comprehensive income attributable to common stockholders for year 2022?\n",
      "The Comprehensive income attributable to common stockholders for the year 2022 is $12,141 million.\n",
      "----------------------------------\n",
      "Temperature of LLM is set to: 0.5\n",
      "What are the total assets and liabilities for the year 2022 in the consolidated balance sheet?\n",
      "The total assets for the year 2022 in the consolidated balance sheet are $82,338 million. The total liabilities for the year 2022 are $36,440 million.\n",
      "----------------------------------\n",
      "What is the Income before income taxes for the year  2020, 2021 and 2022?\n",
      "The income before income taxes for the year 2020 was $1,154 million, for the year 2021 was $6,343 million, and for the year 2022 was $13,719 million.\n",
      "----------------------------------\n",
      "What is the Comprehensive income attributable to common stockholders for year 2022?\n",
      "The Comprehensive income attributable to common stockholders for the year 2022 is $12,141 million.\n",
      "----------------------------------\n",
      "Temperature of LLM is set to: 1\n",
      "What are the total assets and liabilities for the year 2022 in the consolidated balance sheet?\n",
      "The total assets for the year 2022 in the consolidated balance sheet are $82,338 million. The total liabilities for the year 2022 are $36,440 million.\n",
      "----------------------------------\n",
      "What is the Income before income taxes for the year  2020, 2021 and 2022?\n",
      "The income before income taxes for the years 2020, 2021, and 2022 are as follows:\n",
      "\n",
      "- 2020: $1,154 million\n",
      "- 2021: $6,343 million\n",
      "- 2022: $13,719 million\n",
      "----------------------------------\n",
      "What is the Comprehensive income attributable to common stockholders for year 2022?\n",
      "The Comprehensive income attributable to common stockholders for the year 2022 is $12,141 million.\n",
      "----------------------------------\n"
     ]
    }
   ],
   "source": [
    "# List of temperatures to test\n",
    "tem_list = [0.1,0.5,1]\n",
    "for tem in tem_list:\n",
    "    \n",
    "    llm = ChatOpenAI(model_name=\"gpt-3.5-turbo\", temperature=tem)\n",
    "\n",
    "    qa = RetrievalQA.from_chain_type(llm=ChatOpenAI(temperature = tem), chain_type=\"stuff\", retriever=vector_store.as_retriever())\n",
    "\n",
    "    print(f\"Temperature of LLM is set to: {tem}\")\n",
    "    for query in queries_num:\n",
    "        print(query)\n",
    "        print(qa({\"query\": query})['result'])\n",
    "        print(\"----------------------------------\")"
   ]
  },
  {
   "cell_type": "code",
   "execution_count": 143,
   "metadata": {},
   "outputs": [
    {
     "name": "stdout",
     "output_type": "stream",
     "text": [
      "Temperature of LLM is set to: 0.1\n",
      "What does Tesla do? And what types of businesses is Tesla involved in?\n",
      "Tesla is involved in several businesses. They primarily manufacture and sell electric vehicles (EVs) for both individual customers and businesses with commuting employees. They also offer charging options for their customers, including home charging solutions and partnerships with hospitality, retail, and public destinations. Additionally, Tesla markets and sells solar and energy storage products to residential, commercial, and industrial customers, as well as utilities. They provide service for their electric vehicles through company-owned service locations and Tesla Mobile Service. Tesla also engages in direct sales through their website and company-owned stores, with galleries in some locations for product education. They also have a used vehicle business that supports new vehicle sales by integrating trade-ins.\n",
      "----------------------------------\n",
      "How is the financial health of Tesla?\n",
      "Based on the provided context, it is difficult to determine the current financial health of Tesla. The information provided includes references to revenue figures from 2017 and mentions potential challenges and uncertainties that could affect Tesla's financial viability. To assess the current financial health of Tesla, it would be necessary to review more recent financial statements and reports.\n",
      "----------------------------------\n",
      "What kind of technologies does Tesla invest in?\n",
      "Tesla invests in a variety of technologies, including autonomous driving, artificial intelligence, energy generation and storage, and robotics. They apply their AI learnings from self-driving technology to their robotics projects. In terms of energy generation and storage, they develop battery systems and software for energy storage products, as well as solar energy systems. They also focus on developing software capabilities for remotely controlling and dispatching their energy storage systems.\n",
      "----------------------------------\n",
      "Temperature of LLM is set to: 0.5\n",
      "What does Tesla do? And what types of businesses is Tesla involved in?\n",
      "Tesla is involved in several businesses. They primarily focus on the design, development, manufacturing, and sale of electric vehicles. They also offer energy generation and storage products, such as solar panels and energy storage systems. Tesla provides service and warranty for their electric vehicles and offers in-app upgrades for additional features and options. They have direct sales channels through their website and company-owned stores, as well as a used vehicle business. Additionally, Tesla works with hospitality, retail, and public destinations to provide charging options and home charging solutions for residential and multi-family entities.\n",
      "----------------------------------\n",
      "How is the financial health of Tesla?\n",
      "Based on the provided context, it is difficult to determine the current financial health of Tesla. The information mentions the need for Tesla to increase its revenue significantly and the challenges it faces in maintaining long-term financial viability. However, without specific financial data or recent updates, it is not possible to provide a definitive answer.\n",
      "----------------------------------\n",
      "What kind of technologies does Tesla invest in?\n",
      "Tesla invests in various technologies, including autonomous driving, artificial intelligence, energy generation and storage, and robotics. They apply their AI learnings from self-driving technology to robotics, as seen with their robotic humanoid, Optimus. In terms of energy generation and storage, they leverage component-level technologies from their vehicles for their energy storage products. They also develop software for remote control and dispatch of their energy storage systems. Additionally, Tesla focuses on developing battery cell technology and other proprietary technologies for their electric vehicles.\n",
      "----------------------------------\n",
      "Temperature of LLM is set to: 1\n",
      "What does Tesla do? And what types of businesses is Tesla involved in?\n",
      "Tesla is a company that primarily manufactures electric vehicles. They design, develop, manufacture, and sell electric cars and electric vehicle powertrain components. In addition to automotive, Tesla is also involved in other businesses:\n",
      "\n",
      "1. Energy Generation and Storage: Tesla markets and sells solar panels and energy storage products (such as Powerwall) to residential, commercial, industrial customers, utilities, and other entities. They aim to make clean energy adoption accessible and cost-effective.\n",
      "\n",
      "2. Charging Infrastructure: Tesla offers charging options for their customers through a network of charging stations. They collaborate with hospitality, retail, public destinations, and businesses with commuting employees to provide additional charging solutions.\n",
      "\n",
      "3. In-App Upgrades: Tesla vehicles can be updated remotely over-the-air. Customers have the option to purchase additional paid features and options through the Tesla app or in-vehicle user interface. Subscription-based options may also be offered in the future.\n",
      "\n",
      "4. Service and Warranty: Tesla provides service and maintenance for their electric vehicles through company-owned service locations and Tesla Mobile Service.\n",
      "\n",
      "5. Direct Sales: Tesla sells vehicles through their website and company-owned stores. They also have galleries for customer education, although these locations do not facilitate vehicle sales. Tesla periodically reevaluates its sales strategy to optimize their sales channels.\n",
      "\n",
      "6. Used Vehicle Sales: Tesla facilitates the trade-in of customers' existing Tesla or non-Tesla vehicles, supporting new vehicle sales.\n",
      "----------------------------------\n",
      "How is the financial health of Tesla?\n",
      "Based on the provided information, it is difficult to determine the current financial health of Tesla. The information provided includes details about the company's revenue, potential challenges, internal controls, and segments of operation. However, specific financial metrics such as profit, debt, and cash flow are not mentioned. To assess Tesla's financial health, it would require access to the company's financial statements, which are not included in the given context.\n",
      "----------------------------------\n",
      "What kind of technologies does Tesla invest in?\n",
      "Tesla invests in various technologies, including autonomous driving technology, artificial intelligence, robotics, energy generation, energy storage, and software development. They focus on developing electric vehicles with advanced battery and power electronics technology, as well as implementing self-driving capabilities. Tesla also invests in solar energy systems and offers energy storage products like Powerwall and Megapack. They continuously work on enhancing their software capabilities for remote control and dispatch of energy storage systems. Additionally, Tesla explores new vehicle markets and develops specialized consumer electric vehicles.\n",
      "----------------------------------\n"
     ]
    }
   ],
   "source": [
    "# List of temperatures to test\n",
    "tem_list = [0.1,0.5,1]\n",
    "for tem in tem_list:\n",
    "    \n",
    "    llm = ChatOpenAI(model_name=\"gpt-3.5-turbo\", temperature=tem)\n",
    "\n",
    "    qa = RetrievalQA.from_chain_type(llm=ChatOpenAI(temperature = tem), chain_type=\"stuff\", retriever=vector_store.as_retriever())\n",
    "\n",
    "    print(f\"Temperature of LLM is set to: {tem}\")\n",
    "    # output using the default prompt message\n",
    "    for query in queries_gen:\n",
    "        print(query)\n",
    "        print(qa({\"query\": query})['result'])\n",
    "        print(\"----------------------------------\")"
   ]
  },
  {
   "attachments": {},
   "cell_type": "markdown",
   "metadata": {},
   "source": [
    "**Observations:**\n",
    "* All values of the temperature from 0.1,0.5 and 1 gave accurate answers for the numerical questions. This could be because the context used was highly relevant.\n",
    "* In therms of the general questions, all temperature values gave outputs that are factual. No hallucination seen.This could be because the context used was highly relevant.\n",
    "* The higher temperature output gives responses that are more interesting and diversed"
   ]
  },
  {
   "attachments": {},
   "cell_type": "markdown",
   "metadata": {},
   "source": []
  }
 ],
 "metadata": {
  "kernelspec": {
   "display_name": "langchain",
   "language": "python",
   "name": "python3"
  },
  "language_info": {
   "codemirror_mode": {
    "name": "ipython",
    "version": 3
   },
   "file_extension": ".py",
   "mimetype": "text/x-python",
   "name": "python",
   "nbconvert_exporter": "python",
   "pygments_lexer": "ipython3",
   "version": "3.11.4"
  },
  "orig_nbformat": 4
 },
 "nbformat": 4,
 "nbformat_minor": 2
}
